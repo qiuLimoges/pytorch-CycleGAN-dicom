{
 "cells": [
  {
   "cell_type": "markdown",
   "metadata": {},
   "source": [
    "pour verifier le process de transformer dicom image à float avec 0,1 interval\n",
    "code à modier:\n",
    "data/unaligned_dataset.py : \n",
    "     dsA=pydicom.dcmread(A_path)\n",
    "     array_buffer=dsA.pixel_array.tobytes()\n",
    "     A_img=Image.frombytes(\"F\",dsA.pixel_array.shape,array_buffer,'raw',\"F;16\")\n",
    "     \n",
    "data/base_dataset.py:\n",
    "   def get_transform(opt, params=None, grayscale=False, method=Image.BICUBIC, convert=True):\n",
    "    transform_list = []\n",
    "    if grayscale:\n",
    "        transform_list.append(transforms.Grayscale(1))\n",
    "    if 'resize' in opt.preprocess:\n",
    "        osize = [opt.load_size, opt.load_size]\n",
    "        transform_list.append(transforms.Resize(osize, method))\n",
    "    elif 'scale_width' in opt.preprocess:\n",
    "        transform_list.append(transforms.Lambda(lambda img: __scale_width(img, opt.load_size, method)))\n",
    "\n",
    "    if 'crop' in opt.preprocess:\n",
    "        if params is None:\n",
    "            transform_list.append(transforms.RandomCrop(opt.crop_size))\n",
    "        else:\n",
    "            transform_list.append(transforms.Lambda(lambda img: __crop(img, params['crop_pos'], opt.crop_size)))\n",
    "\n",
    "    if opt.preprocess == 'none':\n",
    "        transform_list.append(transforms.Lambda(lambda img: __make_power_2(img, base=4, method=method)))\n",
    "\n",
    "    if not opt.no_flip:\n",
    "        if params is None:\n",
    "            transform_list.append(transforms.RandomHorizontalFlip())\n",
    "        elif params['flip']:\n",
    "            transform_list.append(transforms.Lambda(lambda img: __flip(img, params['flip'])))\n",
    "\n",
    "    if convert:\n",
    "        transform_list += [transforms.ToTensor()]\n",
    "        if grayscale:\n",
    "            transform_list += [transforms.Normalize((0.5,), (0.5,))]\n",
    "        else:\n",
    "            transform_list += [transforms.Normalize((0.5, 0.5, 0.5), (0.5, 0.5, 0.5))]\n",
    "    return transforms.Compose(transform_list)"
   ]
  },
  {
   "cell_type": "code",
   "execution_count": 6,
   "metadata": {},
   "outputs": [],
   "source": [
    "import pydicom \n",
    "import numpy as np\n",
    "import torchvision.transforms as transforms\n",
    "import PIL.Image as Image\n",
    "import matplotlib.pyplot as plt"
   ]
  },
  {
   "cell_type": "code",
   "execution_count": 10,
   "metadata": {},
   "outputs": [],
   "source": [
    "ds=pydicom.dcmread('./imgs/ctTest.dcm')\n",
    "array_buffer=ds.pixel_array.tobytes()\n",
    "A_img=Image.frombytes(\"F\",ds.pixel_array.shape,array_buffer,'raw',\"F;16\")"
   ]
  },
  {
   "cell_type": "code",
   "execution_count": 24,
   "metadata": {},
   "outputs": [],
   "source": [
    "nds=np.array(ds.pixel_array,dtype=np.float64)\n",
    "nds=(nds+1000)/5000"
   ]
  },
  {
   "cell_type": "code",
   "execution_count": 26,
   "metadata": {},
   "outputs": [
    {
     "data": {
      "text/plain": [
       "(array([ 55772.,      0.,      0.,      0.,      0.,      0.,      0.,\n",
       "             0.,      0.,      0.,      0.,      0.,      0.,      0.,\n",
       "             0.,      0.,      0.,      0.,      0., 119318.,   5210.,\n",
       "          1155.,    996.,    981.,   1075.,   1037.,   1118.,   1170.,\n",
       "         11809.,  37991.,   7883.,   3963.,   1612.,    895.,    779.,\n",
       "           793.,    736.,    641.,    582.,    593.,    577.,    522.,\n",
       "           523.,    547.,    603.,    745.,    754.,    874.,    751.,\n",
       "           139.]),\n",
       " array([0.      , 0.020824, 0.041648, 0.062472, 0.083296, 0.10412 ,\n",
       "        0.124944, 0.145768, 0.166592, 0.187416, 0.20824 , 0.229064,\n",
       "        0.249888, 0.270712, 0.291536, 0.31236 , 0.333184, 0.354008,\n",
       "        0.374832, 0.395656, 0.41648 , 0.437304, 0.458128, 0.478952,\n",
       "        0.499776, 0.5206  , 0.541424, 0.562248, 0.583072, 0.603896,\n",
       "        0.62472 , 0.645544, 0.666368, 0.687192, 0.708016, 0.72884 ,\n",
       "        0.749664, 0.770488, 0.791312, 0.812136, 0.83296 , 0.853784,\n",
       "        0.874608, 0.895432, 0.916256, 0.93708 , 0.957904, 0.978728,\n",
       "        0.999552, 1.020376, 1.0412  ]),\n",
       " <a list of 50 Patch objects>)"
      ]
     },
     "execution_count": 26,
     "metadata": {},
     "output_type": "execute_result"
    },
    {
     "data": {
      "image/png": "[encoded data removed]",
      "text/plain": [
       "<Figure size 432x288 with 1 Axes>"
      ]
     },
     "metadata": {
      "needs_background": "light"
     },
     "output_type": "display_data"
    }
   ],
   "source": [
    "plt.hist(nds.flatten(),bins=50)"
   ]
  },
  {
   "cell_type": "code",
   "execution_count": 27,
   "metadata": {},
   "outputs": [],
   "source": [
    "nds=nds*5000-1000"
   ]
  },
  {
   "cell_type": "code",
   "execution_count": 28,
   "metadata": {},
   "outputs": [
    {
     "data": {
      "text/plain": [
       "(array([ 55772.,      0.,      0.,      0.,      0.,      0.,      0.,\n",
       "             0.,      0.,      0.,      0.,      0.,      0.,      0.,\n",
       "             0.,      0.,      0.,      0.,      0., 119318.,   5210.,\n",
       "          1155.,    996.,    981.,   1075.,   1037.,   1118.,   1170.,\n",
       "         11809.,  37991.,   7883.,   3963.,   1612.,    895.,    779.,\n",
       "           793.,    736.,    641.,    582.,    593.,    577.,    522.,\n",
       "           523.,    547.,    603.,    745.,    754.,    874.,    751.,\n",
       "           139.]),\n",
       " array([-1000.  ,  -895.88,  -791.76,  -687.64,  -583.52,  -479.4 ,\n",
       "         -375.28,  -271.16,  -167.04,   -62.92,    41.2 ,   145.32,\n",
       "          249.44,   353.56,   457.68,   561.8 ,   665.92,   770.04,\n",
       "          874.16,   978.28,  1082.4 ,  1186.52,  1290.64,  1394.76,\n",
       "         1498.88,  1603.  ,  1707.12,  1811.24,  1915.36,  2019.48,\n",
       "         2123.6 ,  2227.72,  2331.84,  2435.96,  2540.08,  2644.2 ,\n",
       "         2748.32,  2852.44,  2956.56,  3060.68,  3164.8 ,  3268.92,\n",
       "         3373.04,  3477.16,  3581.28,  3685.4 ,  3789.52,  3893.64,\n",
       "         3997.76,  4101.88,  4206.  ]),\n",
       " <a list of 50 Patch objects>)"
      ]
     },
     "execution_count": 28,
     "metadata": {},
     "output_type": "execute_result"
    },
    {
     "data": {
      "image/png": "[encoded data removed]",
      "text/plain": [
       "<Figure size 432x288 with 1 Axes>"
      ]
     },
     "metadata": {
      "needs_background": "light"
     },
     "output_type": "display_data"
    }
   ],
   "source": [
    "plt.hist(nds.flatten(),bins=50)"
   ]
  },
  {
   "cell_type": "code",
   "execution_count": 15,
   "metadata": {},
   "outputs": [
    {
     "data": {
      "text/plain": [
       "(array([191472.,  10816.,   4084.,      0.,      0.,      0.,      0.,\n",
       "             0.,      0.,      0.,      0.,      0.,      0.,      0.,\n",
       "             0.,      0.,      0.,      0.,      0.,      0.,      0.,\n",
       "             0.,      0.,      0.,      0.,      0.,      0.,      0.,\n",
       "             0.,      0.,      0.,      0.,      0.,      0.,      0.,\n",
       "             0.,      0.,      0.,      0.,      0.,      0.,      0.,\n",
       "             0.,      0.,      0.,      0.,      0.,      0.,      0.,\n",
       "         55772.]),\n",
       " array([    0.  ,  1270.72,  2541.44,  3812.16,  5082.88,  6353.6 ,\n",
       "         7624.32,  8895.04, 10165.76, 11436.48, 12707.2 , 13977.92,\n",
       "        15248.64, 16519.36, 17790.08, 19060.8 , 20331.52, 21602.24,\n",
       "        22872.96, 24143.68, 25414.4 , 26685.12, 27955.84, 29226.56,\n",
       "        30497.28, 31768.  , 33038.72, 34309.44, 35580.16, 36850.88,\n",
       "        38121.6 , 39392.32, 40663.04, 41933.76, 43204.48, 44475.2 ,\n",
       "        45745.92, 47016.64, 48287.36, 49558.08, 50828.8 , 52099.52,\n",
       "        53370.24, 54640.96, 55911.68, 57182.4 , 58453.12, 59723.84,\n",
       "        60994.56, 62265.28, 63536.  ], dtype=float32),\n",
       " <a list of 50 Patch objects>)"
      ]
     },
     "execution_count": 15,
     "metadata": {},
     "output_type": "execute_result"
    },
    {
     "data": {
      "image/png": "[encoded data removed]",
      "text/plain": [
       "<Figure size 432x288 with 1 Axes>"
      ]
     },
     "metadata": {
      "needs_background": "light"
     },
     "output_type": "display_data"
    }
   ],
   "source": [
    "plt.hist(px.flatten(),bins=50)"
   ]
  },
  {
   "cell_type": "code",
   "execution_count": 29,
   "metadata": {},
   "outputs": [],
   "source": [
    "ndcm=np.load('postGan.npy')"
   ]
  },
  {
   "cell_type": "code",
   "execution_count": 30,
   "metadata": {},
   "outputs": [
    {
     "data": {
      "text/plain": [
       "(1, 512, 512)"
      ]
     },
     "execution_count": 30,
     "metadata": {},
     "output_type": "execute_result"
    }
   ],
   "source": [
    "ndcm.shape"
   ]
  },
  {
   "cell_type": "code",
   "execution_count": 31,
   "metadata": {},
   "outputs": [
    {
     "data": {
      "text/plain": [
       "(array([83807.,  5544., 25195., 52020., 16609.,  5252.,  3459.,  3215.,\n",
       "         2858.,  2561.,  2358.,  1978.,  1777.,  1521.,  1373.,  1192.,\n",
       "         1007.,   900.,   820.,   712.,   683.,   548.,   577.,   669.,\n",
       "          858.,  1156.,  1419.,  1503.,  1569.,  1566.,  1453.,  1210.,\n",
       "          983.,   768.,   678.,   626.,   562.,   530.,   443.,   510.,\n",
       "          510.,   542.,   515.,   569.,   585.,   602.,   664.,   740.,\n",
       "          885., 24063.]),\n",
       " array([-1.99672742e+03, -1.89679370e+03, -1.79685986e+03, -1.69692615e+03,\n",
       "        -1.59699243e+03, -1.49705859e+03, -1.39712488e+03, -1.29719116e+03,\n",
       "        -1.19725732e+03, -1.09732361e+03, -9.97389832e+02, -8.97456116e+02,\n",
       "        -7.97522339e+02, -6.97588562e+02, -5.97654785e+02, -4.97721069e+02,\n",
       "        -3.97787292e+02, -2.97853546e+02, -1.97919785e+02, -9.79860306e+01,\n",
       "         1.94772947e+00,  1.01881485e+02,  2.01815247e+02,  3.01748993e+02,\n",
       "         4.01682770e+02,  5.01616516e+02,  6.01550293e+02,  7.01484009e+02,\n",
       "         8.01417786e+02,  9.01351562e+02,  1.00128528e+03,  1.10121912e+03,\n",
       "         1.20115283e+03,  1.30108655e+03,  1.40102039e+03,  1.50095410e+03,\n",
       "         1.60088782e+03,  1.70082166e+03,  1.80075537e+03,  1.90068909e+03,\n",
       "         2.00062292e+03,  2.10055664e+03,  2.20049048e+03,  2.30042407e+03,\n",
       "         2.40035791e+03,  2.50029175e+03,  2.60022534e+03,  2.70015918e+03,\n",
       "         2.80009302e+03,  2.90002661e+03,  2.99996045e+03], dtype=float32),\n",
       " <a list of 50 Patch objects>)"
      ]
     },
     "execution_count": 31,
     "metadata": {},
     "output_type": "execute_result"
    },
    {
     "data": {
      "image/png": "[encoded data removed]",
      "text/plain": [
       "<Figure size 432x288 with 1 Axes>"
      ]
     },
     "metadata": {
      "needs_background": "light"
     },
     "output_type": "display_data"
    }
   ],
   "source": [
    "plt.hist(ndcm[0].flatten(),bins=50)"
   ]
  },
  {
   "cell_type": "code",
   "execution_count": null,
   "metadata": {},
   "outputs": [],
   "source": []
  }
 ],
 "metadata": {
  "kernelspec": {
   "display_name": "Python 3",
   "language": "python",
   "name": "python3"
  },
  "language_info": {
   "codemirror_mode": {
    "name": "ipython",
    "version": 3
   },
   "file_extension": ".py",
   "mimetype": "text/x-python",
   "name": "python",
   "nbconvert_exporter": "python",
   "pygments_lexer": "ipython3",
   "version": "3.7.5"
  }
 },
 "nbformat": 4,
 "nbformat_minor": 4
}
